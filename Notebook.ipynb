{
 "cells": [
  {
   "cell_type": "code",
   "execution_count": 71,
   "id": "589f7964-5026-45e0-ba60-70b4c1a4d1cc",
   "metadata": {},
   "outputs": [],
   "source": [
    "import speech_recognition as sr\n",
    "import datetime\n",
    "import pyttsx3\n",
    "import pyjokes"
   ]
  },
  {
   "cell_type": "code",
   "execution_count": 40,
   "id": "f49ecbba-156b-4dfe-8b15-95a4be722722",
   "metadata": {},
   "outputs": [],
   "source": [
    "def audio_feedback():\n",
    "    recognizer = sr.Recognizer()\n",
    "    with sr.Microphone() as audio_source:\n",
    "        recognizer.adjust_for_ambient_noise(audio_source)\n",
    "        recognizer.pause_threshold = 0.8\n",
    "        print('Initiated')\n",
    "        feedback = recognizer.listen(audio_source, timeout = 8, phrase_time_limit = 8)\n",
    "        try:\n",
    "            print(\"Listening....\")\n",
    "            process = recognizer.recognize_google(feedback, language=\"en\")\n",
    "            print(process)\n",
    "            return process\n",
    "        except sr.UnknownValueError:\n",
    "            print(\"I did not catch that\")\n",
    "            return \"Please repeat\"\n",
    "        except sr.RequestError:\n",
    "            print(\"Service Unavailable\")\n",
    "            return \"Service unavailable\"\n",
    "\n",
    "        except:\n",
    "            return \"waiting\"\n",
    "\n",
    "\n"
   ]
  },
  {
   "cell_type": "code",
   "execution_count": 41,
   "id": "457de856-0f80-477a-8618-4ab90c0ea92d",
   "metadata": {},
   "outputs": [
    {
     "name": "stdout",
     "output_type": "stream",
     "text": [
      "Initiated\n",
      "Listening....\n",
      "no does this work\n"
     ]
    },
    {
     "data": {
      "text/plain": [
       "'no does this work'"
      ]
     },
     "execution_count": 41,
     "metadata": {},
     "output_type": "execute_result"
    }
   ],
   "source": [
    "audio_feedback()"
   ]
  },
  {
   "cell_type": "code",
   "execution_count": 42,
   "id": "7ef6a8b1-8e34-4479-98d0-ed4054e40765",
   "metadata": {},
   "outputs": [],
   "source": [
    "def communicate(message):\n",
    "    engine = pyttsx3.init()\n",
    "    engine.say(message)\n",
    "    engine.runAndWait()\n"
   ]
  },
  {
   "cell_type": "code",
   "execution_count": 43,
   "id": "d3866807-6864-40a3-a3e4-4298d8897582",
   "metadata": {},
   "outputs": [],
   "source": [
    "communicate('Hey! How is it going')"
   ]
  },
  {
   "cell_type": "code",
   "execution_count": 44,
   "id": "a28b27f5-61c8-4a11-8a8e-728fc9afeccd",
   "metadata": {},
   "outputs": [],
   "source": [
    " engine = pyttsx3.init()\n",
    "# for voice in engine.getProperty('voices'):\n",
    "#     print(voice)\n",
    "\n",
    "voice = \"HKEY_LOCAL_MACHINE\\SOFTWARE\\Microsoft\\Speech\\Voices\\Tokens\\TTS_MS_EN-US_ZIRA_11.0\"\n",
    "engine.setProperty('voice', voice)\n",
    "communicate(\"Hey!\")\n"
   ]
  },
  {
   "cell_type": "code",
   "execution_count": 45,
   "id": "228dba10-0a2c-4a03-b5bb-cd20813f0a35",
   "metadata": {},
   "outputs": [],
   "source": [
    "dict = {0:'Monday', 1:'Tuesday', 2:'Wednesday', 3:'Thursday', 4:'Friday', 5:'Saturday', 6:'Sunday'}\n",
    "def query_day():\n",
    "    day = datetime.date.today()\n",
    "    weekday = day.weekday()\n",
    "    try:\n",
    "        communicate(f'Today is {dict[weekday]}')\n",
    "    except:\n",
    "        print('error')"
   ]
  },
  {
   "cell_type": "code",
   "execution_count": 20,
   "id": "2a3a6235-20ff-40fe-a7dd-9df0dfa2afd0",
   "metadata": {},
   "outputs": [],
   "source": [
    "query_day()"
   ]
  },
  {
   "cell_type": "code",
   "execution_count": 46,
   "id": "a92079bc-b5ef-4e81-9479-76e859689d74",
   "metadata": {},
   "outputs": [
    {
     "name": "stdout",
     "output_type": "stream",
     "text": [
      "12:22:13\n"
     ]
    }
   ],
   "source": [
    "def query_time():\n",
    "    time = datetime.datetime.now().strftime(\"%I:%M:%S\")\n",
    "    print(time)\n",
    "    communicate(f\"{time[0:2]} o'clock and {time[3:5]} minutes\")\n",
    "\n",
    "query_time()"
   ]
  },
  {
   "cell_type": "code",
   "execution_count": 55,
   "id": "bc67c48e-3288-41d9-b638-b5e65f1ca262",
   "metadata": {},
   "outputs": [],
   "source": [
    "def greeting():\n",
    "    communicate('''\n",
    "    Hello, Hello!. \n",
    "    My name is Bobo, I can tell jokes and meow\n",
    "    ''')"
   ]
  },
  {
   "cell_type": "code",
   "execution_count": 56,
   "id": "6428ca00-5e37-4b99-9cd1-016f7d0b768c",
   "metadata": {},
   "outputs": [],
   "source": [
    "greeting()"
   ]
  },
  {
   "cell_type": "code",
   "execution_count": 69,
   "id": "a1ec0863-a4d8-4ef4-9a22-dfc3c4e0ede3",
   "metadata": {},
   "outputs": [],
   "source": [
    "def mainblock():\n",
    "    greeting()\n",
    "   \n",
    "    while(True):\n",
    "        query = audio_feedback().lower()\n",
    "        if 'joke' in query:\n",
    "            communicate('Okay!, Here it is')\n",
    "            communicate(pyjokes.get_joke())\n",
    "            continue\n",
    "        elif 'not funny' in query:\n",
    "            communicate('huh! You tell me a joke')\n",
    "            continue\n",
    "        elif 'meow' in query:\n",
    "            communicate('Woof Woof! oops, meow meow')\n",
    "        elif 'day' in query:\n",
    "            query_day()\n",
    "            continue\n",
    "        elif 'time' in query:\n",
    "            query_time()\n",
    "            continue\n",
    "        elif 'stop' or 'bye' in query:\n",
    "            communicate('ok bye')\n",
    "            break\n",
    "        else:\n",
    "            communicate('Me no understando')\n",
    "            continue\n",
    "                            \n",
    "        "
   ]
  },
  {
   "cell_type": "code",
   "execution_count": 70,
   "id": "e396ea54-dad2-4d9b-a2f8-222335840f6b",
   "metadata": {},
   "outputs": [
    {
     "name": "stdout",
     "output_type": "stream",
     "text": [
      "Initiated\n",
      "Listening....\n",
      "play tell a joke\n",
      "Initiated\n",
      "Listening....\n",
      "not funny\n",
      "Initiated\n",
      "Listening....\n",
      "Okay so\n"
     ]
    }
   ],
   "source": [
    "mainblock()"
   ]
  }
 ],
 "metadata": {
  "kernelspec": {
   "display_name": "Python 3 (ipykernel)",
   "language": "python",
   "name": "python3"
  },
  "language_info": {
   "codemirror_mode": {
    "name": "ipython",
    "version": 3
   },
   "file_extension": ".py",
   "mimetype": "text/x-python",
   "name": "python",
   "nbconvert_exporter": "python",
   "pygments_lexer": "ipython3",
   "version": "3.11.4"
  }
 },
 "nbformat": 4,
 "nbformat_minor": 5
}
